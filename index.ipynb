{
 "cells": [
  {
   "cell_type": "markdown",
   "metadata": {},
   "source": [
    "# While Loops, Break and Continue - Lab"
   ]
  },
  {
   "cell_type": "markdown",
   "metadata": {},
   "source": [
    "## Introduction\n",
    "In this lab, we will practice using `while` loops, and `break` and `continue` statements in our code. We will use our control flow statements to iterate through collections and filter out or selectively operate on each element. We'll use `while` loops to perform operations until a given condition is no longer true."
   ]
  },
  {
   "cell_type": "markdown",
   "metadata": {},
   "source": [
    "## Objectives\n",
    "You will be able to:\n",
    "* Use a break and continue statements inside a loop\n",
    "* Understand, explain and use while loops"
   ]
  },
  {
   "cell_type": "markdown",
   "metadata": {},
   "source": [
    "## Instructions\n",
    "\n",
    "### While Loops\n",
    "Use while loops to perform the below operations and get the expected return values"
   ]
  },
  {
   "cell_type": "code",
   "execution_count": 1,
   "metadata": {},
   "outputs": [],
   "source": [
    "# slices_of_pie = 6\n",
    "# slices_eaten = 0\n",
    "# # use a while loop to eat each slice of pie\n",
    "# # add each slice to the slices_eaten variable\n",
    "# for slice in range(slices_of_pie):\n",
    "#     print('Another slice eaten!')\n",
    "#     slices_eaten += 1\n",
    "#     print('Now eaten {} slices!'.format(slices_eaten))"
   ]
  },
  {
   "cell_type": "code",
   "execution_count": 2,
   "metadata": {},
   "outputs": [
    {
     "name": "stdout",
     "output_type": "stream",
     "text": [
      "slices of pie left: 5\n",
      "slices_eaten:       1\n",
      " \n",
      "slices of pie left: 4\n",
      "slices_eaten:       2\n",
      " \n",
      "slices of pie left: 3\n",
      "slices_eaten:       3\n",
      " \n",
      "slices of pie left: 2\n",
      "slices_eaten:       4\n",
      " \n",
      "slices of pie left: 1\n",
      "slices_eaten:       5\n",
      " \n",
      "slices of pie left: 0\n",
      "slices_eaten:       6\n",
      " \n"
     ]
    }
   ],
   "source": [
    "slices_of_pie = 6\n",
    "slices_eaten = 0\n",
    "\n",
    "while slices_of_pie > 0:\n",
    "    slices_of_pie -= 1\n",
    "    slices_eaten += 1\n",
    "    print(\"slices of pie left:\", slices_of_pie)\n",
    "    print(\"slices_eaten:      \", slices_eaten)\n",
    "    print(\" \")"
   ]
  },
  {
   "cell_type": "code",
   "execution_count": 3,
   "metadata": {
    "scrolled": true
   },
   "outputs": [],
   "source": [
    "time_for_breakfast = 1468 # in seconds\n",
    "number_of_cooked_pancakes = 0\n",
    "# use a while loop to make yourself 5 pancakes for breakfast\n",
    "# each pancake takes 27 seconds to cook on each side\n",
    "# it takes an average of 5 seconds to flip a pancake, add or remove a pancake from the pan.\n",
    "# you must decrease the time_for_breakfast each time you \n",
    "# add a pancake to the skillet (frying pan) or flip a pancake (i.e. 2 times per pancake)\n",
    "# there is only room for one pancake at a time"
   ]
  },
  {
   "cell_type": "code",
   "execution_count": 4,
   "metadata": {},
   "outputs": [
    {
     "name": "stdout",
     "output_type": "stream",
     "text": [
      "# pancakes now: 1\n",
      "time-for-breakfast now: 1399\n",
      "# pancakes now: 2\n",
      "time-for-breakfast now: 1330\n",
      "# pancakes now: 3\n",
      "time-for-breakfast now: 1261\n",
      "# pancakes now: 4\n",
      "time-for-breakfast now: 1192\n",
      "# pancakes now: 5\n",
      "time-for-breakfast now: 1123\n"
     ]
    }
   ],
   "source": [
    "time_for_breakfast = 1468 # in seconds\n",
    "number_of_cooked_pancakes = 0\n",
    "\n",
    "while number_of_cooked_pancakes < 5:\n",
    "    number_of_cooked_pancakes += 1\n",
    "    t_cost = 5+27+5+27+5\n",
    "    time_for_breakfast -= t_cost\n",
    "        \n",
    "    print(\"# pancakes now:\", number_of_cooked_pancakes)\n",
    "    print(\"time-for-breakfast now:\", time_for_breakfast)"
   ]
  },
  {
   "cell_type": "markdown",
   "metadata": {},
   "source": [
    "## For Loops"
   ]
  },
  {
   "cell_type": "markdown",
   "metadata": {},
   "source": [
    "> **Hint:** You may find the [remove method](https://www.programiz.com/python-programming/methods/list/remove) to be useful for the next problem"
   ]
  },
  {
   "cell_type": "code",
   "execution_count": 5,
   "metadata": {},
   "outputs": [],
   "source": [
    "# line_of_hungry_patrons = list(range(0,30))\n",
    "# fed_patrons = []\n",
    "# # use a while <<or a for>> loop to feed the hungry patrons who have an even number\n",
    "# # add the patrons with an even number to the fed_patrons list\n",
    "# # then remove the even numbered patrons from the line_of_hungry_patrons\n",
    "# # each list should contain 15 elements"
   ]
  },
  {
   "cell_type": "code",
   "execution_count": 11,
   "metadata": {},
   "outputs": [
    {
     "name": "stdout",
     "output_type": "stream",
     "text": [
      "patron  0 has been fed.\n",
      "1 fed patrons: [0]\n",
      "29 hungry patrons.\n",
      "patron  2 has been fed.\n",
      "2 fed patrons: [0, 2]\n",
      "28 hungry patrons.\n",
      "patron  4 has been fed.\n",
      "3 fed patrons: [0, 2, 4]\n",
      "27 hungry patrons.\n",
      "patron  6 has been fed.\n",
      "4 fed patrons: [0, 2, 4, 6]\n",
      "26 hungry patrons.\n",
      "patron  8 has been fed.\n",
      "5 fed patrons: [0, 2, 4, 6, 8]\n",
      "25 hungry patrons.\n",
      "patron  10 has been fed.\n",
      "6 fed patrons: [0, 2, 4, 6, 8, 10]\n",
      "24 hungry patrons.\n",
      "patron  12 has been fed.\n",
      "7 fed patrons: [0, 2, 4, 6, 8, 10, 12]\n",
      "23 hungry patrons.\n",
      "patron  14 has been fed.\n",
      "8 fed patrons: [0, 2, 4, 6, 8, 10, 12, 14]\n",
      "22 hungry patrons.\n",
      "patron  16 has been fed.\n",
      "9 fed patrons: [0, 2, 4, 6, 8, 10, 12, 14, 16]\n",
      "21 hungry patrons.\n",
      "patron  18 has been fed.\n",
      "10 fed patrons: [0, 2, 4, 6, 8, 10, 12, 14, 16, 18]\n",
      "20 hungry patrons.\n",
      "patron  20 has been fed.\n",
      "11 fed patrons: [0, 2, 4, 6, 8, 10, 12, 14, 16, 18, 20]\n",
      "19 hungry patrons.\n",
      "patron  22 has been fed.\n",
      "12 fed patrons: [0, 2, 4, 6, 8, 10, 12, 14, 16, 18, 20, 22]\n",
      "18 hungry patrons.\n",
      "patron  24 has been fed.\n",
      "13 fed patrons: [0, 2, 4, 6, 8, 10, 12, 14, 16, 18, 20, 22, 24]\n",
      "17 hungry patrons.\n",
      "patron  26 has been fed.\n",
      "14 fed patrons: [0, 2, 4, 6, 8, 10, 12, 14, 16, 18, 20, 22, 24, 26]\n",
      "16 hungry patrons.\n",
      "patron  28 has been fed.\n",
      "15 fed patrons: [0, 2, 4, 6, 8, 10, 12, 14, 16, 18, 20, 22, 24, 26, 28]\n",
      "15 hungry patrons.\n"
     ]
    }
   ],
   "source": [
    "line_of_hungry_patrons = list(range(0,30))\n",
    "fed_patrons = []\n",
    "\n",
    "for patron in line_of_hungry_patrons:\n",
    "    if patron % 2 == 0:\n",
    "        line_of_hungry_patrons.remove(patron)\n",
    "        fed_patrons.append(patron)\n",
    "        print(\"patron \", patron, \"has been fed.\")\n",
    "        print(len(fed_patrons), \"fed patrons:\", fed_patrons)\n",
    "        print(len(line_of_hungry_patrons), \"hungry patrons.\")\n",
    "    else:\n",
    "        continue"
   ]
  },
  {
   "cell_type": "markdown",
   "metadata": {},
   "source": [
    "### `break` And `continue` Statements"
   ]
  },
  {
   "cell_type": "markdown",
   "metadata": {},
   "source": [
    "We have a list of person objects with all kinds of attributes. We'll use loops to find a person that meets a certain requirement that we are looking for or create new lists with a certain subset of elements. Write for loops with conditional statements in conjunction with `break` and `continue` to get the desired output."
   ]
  },
  {
   "cell_type": "code",
   "execution_count": 12,
   "metadata": {},
   "outputs": [],
   "source": [
    "people = [\n",
    "    {'name': \"Daniel\", 'age': 29, 'job': \"Engineer\", 'pet': \"Cat\", 'pet_name': \"Gato\"}, \n",
    "    {'name': \"Katie\", 'age': 30, 'job': \"Teacher\", 'pet': \"Dog\", 'pet_name': \"Frank\"},\n",
    "    {'name': \"Owen\", 'age': 26, 'job': \"Sales person\", 'pet': \"Cat\", 'pet_name': \"Cosmo\"},\n",
    "    {'name': \"Josh\", 'age': 22, 'job': \"Student\", 'pet': \"Cat\", 'pet_name': \"Chat\"},\n",
    "    {'name': \"Estelle\", 'age': 35, 'job': \"French Diplomat\", 'pet': \"Dog\", 'pet_name': \"Gabby\"},\n",
    "    {'name': \"Gustav\", 'age': 24, 'job': \"Brewer\", 'pet': \"Dog\", 'pet_name': \"Helen\"}\n",
    "]"
   ]
  },
  {
   "cell_type": "code",
   "execution_count": 26,
   "metadata": {},
   "outputs": [
    {
     "name": "stdout",
     "output_type": "stream",
     "text": [
      "Person # 2 / Katie has a dog\n"
     ]
    }
   ],
   "source": [
    "# use the for loop below to find the *first* person in the list of people that has a dog as their pet\n",
    "# the iteration count shouldn't exceed 2 iterations\n",
    "first_dog_person = None\n",
    "iteration_count = 0\n",
    "for person in people:\n",
    "    iteration_count += 1\n",
    "    if person['pet'] == \"Dog\":\n",
    "        print (\"Person #\", iteration_count, \"/\", person['name'], \"has a dog\")\n",
    "        break"
   ]
  },
  {
   "cell_type": "code",
   "execution_count": 31,
   "metadata": {},
   "outputs": [
    {
     "name": "stdout",
     "output_type": "stream",
     "text": [
      "cat owners: ['Owen', 'Josh']\n"
     ]
    }
   ],
   "source": [
    "# use a for loop to create a list of the cat owners who are under the age of 28\n",
    "cat_owners = []\n",
    "# for loop goes here\n",
    "for person in people:\n",
    "    if person['age'] < 28:\n",
    "        if person['pet'] == \"Cat\":\n",
    "            cat_owners.append(person['name'])\n",
    "print(\"cat owners:\", cat_owners)"
   ]
  },
  {
   "cell_type": "code",
   "execution_count": 36,
   "metadata": {},
   "outputs": [
    {
     "name": "stdout",
     "output_type": "stream",
     "text": [
      "First 30 year old: Katie\n"
     ]
    }
   ],
   "source": [
    "# use a for loop to find the first person who is above 29 years old in our list of people\n",
    "# remember to use a break and or continue statement\n",
    "thirty_something_yr_old = None\n",
    "# for loop goes here\n",
    "for person in people:\n",
    "    if person['age'] > 29:\n",
    "        thirty_something_yr_old = person['name']\n",
    "        break\n",
    "print(\"First 30 year old:\", thirty_something_yr_old)"
   ]
  },
  {
   "cell_type": "code",
   "execution_count": null,
   "metadata": {},
   "outputs": [],
   "source": [
    "# use a for loop to create a list of person names and another list of pet names for all dog owners\n",
    "dog_owner_names = None\n",
    "dog_names = None\n",
    "# for loop goes here"
   ]
  },
  {
   "cell_type": "code",
   "execution_count": null,
   "metadata": {},
   "outputs": [],
   "source": [
    "# use a for loop to create a list of odd numbers from the list of numbers from 0 to 100\n",
    "# each time there is an odd number, add 10 to it and append it to the list_of_odd_numbers_plus_ten\n",
    "# stop adding numbers to the list when there are 35 numbers\n",
    "# use break and continue statements in your code\n",
    "list_of_numbers = list(range(0,100))\n",
    "list_of_odd_numbers_plus_ten = []\n",
    "for number in list_of_numbers:\n",
    "    pass"
   ]
  },
  {
   "cell_type": "markdown",
   "metadata": {},
   "source": [
    "## Summary"
   ]
  },
  {
   "cell_type": "markdown",
   "metadata": {},
   "source": [
    "In this lab, we practiced using while loops, which continue executing their block of code until the given condition is no longer truthy. This is useful for instances where we do not have a collection or do not need a collection to solve our problem, especially when we would only like to stop the process according to a certain condition. We then practiced using control flow statements, `break` and `continue`, to selectively operate on elements, append them to new lists, or assign them to new variables."
   ]
  }
 ],
 "metadata": {
  "kernelspec": {
   "display_name": "learn-env",
   "language": "python",
   "name": "learn-env"
  },
  "language_info": {
   "codemirror_mode": {
    "name": "ipython",
    "version": 3
   },
   "file_extension": ".py",
   "mimetype": "text/x-python",
   "name": "python",
   "nbconvert_exporter": "python",
   "pygments_lexer": "ipython3",
   "version": "3.6.6"
  }
 },
 "nbformat": 4,
 "nbformat_minor": 2
}
